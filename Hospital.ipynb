{
 "cells": [
  {
   "cell_type": "code",
   "execution_count": null,
   "id": "5338cf17",
   "metadata": {},
   "outputs": [],
   "source": [
    "# def register_patient(patient_id, personal_info, medical_history, insurance_info):\n",
    "# def add_medical_staff(staff_id, name, specialization, shift_schedule, contact_info):\n",
    "# def schedule_appointment(patient_id, doctor_id, appointment_date, appointment_type):\n",
    "# def create_medical_record(patient_id, doctor_id, diagnosis, treatment, prescription):\n",
    "# def process_billing(patient_id, services_list, insurance_coverage):\n",
    "# def manage_emergency_admission(patient_id, emergency_type, severity_level):\n",
    "# def track_medication_inventory(medication_id, quantity, expiry_date, supplier):\n",
    "# def assign_room(patient_id, room_type, admission_date, expected_duration):\n",
    "# def calculate_treatment_cost(patient_id, treatment_plan, insurance_details):\n",
    "# def generate_patient_report(patient_id, report_type):\n",
    "# def analyze_hospital_efficiency(metrics_type, time_period):\n",
    "# def manage_discharge_process(patient_id, discharge_date, follow_up_instructions):"
   ]
  },
  {
   "cell_type": "code",
   "execution_count": 1,
   "id": "8c3bde58",
   "metadata": {},
   "outputs": [
    {
     "name": "stdout",
     "output_type": "stream",
     "text": [
      "Patient Rajesh Kumar Registered Successfully.\n",
      "Medical staff Dr. Priya Mehta added.\n"
     ]
    }
   ],
   "source": [
    "hospital_data = {\n",
    "    'patients' : {},\n",
    "    'medical_staff' : {},\n",
    "}\n",
    "\n",
    "def register_patient(patient_id, personal_info, medical_history, insurance_info):\n",
    "    if patient_id in hospital_data['patients']:\n",
    "        print(\"Patient already Registered\")\n",
    "        return\n",
    "    hospital_data['patients'][patient_id] = {\n",
    "        'personal_info': personal_info,\n",
    "        'medical_history': medical_history,\n",
    "        'insurance_info': insurance_info,   \n",
    "    }\n",
    "    print(f\"Patient {personal_info['name']} Registered Successfully.\")\n",
    "\n",
    "def add_medical_staff(staff_id, name, specialization, shift_schedule, contact_info):\n",
    "    if staff_id in hospital_data['medical_staff']:\n",
    "        print(\"Staff already Registered.\")\n",
    "        return\n",
    "    hospital_data['medical_staff'][staff_id] = {\n",
    "        'name':name,\n",
    "        'specialization' : specialization,\n",
    "        'shift_schedule' : shift_schedule,\n",
    "        'contact_info' : contact_info,\n",
    "    }\n",
    "    print(f\"Medical staff {name} added.\")\n",
    "\n",
    "\n",
    "register_patient('P12345', {'name': 'Rajesh Kumar', 'age': 45, 'gender': 'Male', 'blood_type': 'B+'}, ['Hypertension'], {'provider': 'Star Health', 'policy': 'SH789456'})\n",
    "add_medical_staff('D100', 'Dr. Priya Mehta', 'Cardiology', [('08:00', '16:00')], {'phone': '9876543210'})"
   ]
  }
 ],
 "metadata": {
  "kernelspec": {
   "display_name": "Python 3",
   "language": "python",
   "name": "python3"
  },
  "language_info": {
   "codemirror_mode": {
    "name": "ipython",
    "version": 3
   },
   "file_extension": ".py",
   "mimetype": "text/x-python",
   "name": "python",
   "nbconvert_exporter": "python",
   "pygments_lexer": "ipython3",
   "version": "3.11.4"
  }
 },
 "nbformat": 4,
 "nbformat_minor": 5
}
